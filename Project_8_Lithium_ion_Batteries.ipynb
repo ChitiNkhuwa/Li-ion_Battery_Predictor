{
  "cells": [
    {
      "id": "0549f5e7",
      "source": [
        "## Import libraries and dataset\n",
        "\n",
        "\n"
      ],
      "metadata": {
        "id": "0549f5e7"
      },
      "cell_type": "markdown"
    },
    {
      "cell_type": "code",
      "execution_count": null,
      "outputs": [
        {
          "text": "  Materials Id       Formula Spacegroup  Formation Energy (eV)  \\\n0    mp-849394     Li2MnSiO4         Pc                 -2.699   \n1    mp-783909     Li2MnSiO4      P21/c                 -2.696   \n2    mp-761311    Li4MnSi2O7         Cc                 -2.775   \n3    mp-761598  Li4Mn2Si3O10       C2/c                 -2.783   \n4    mp-767709  Li2Mn3Si3O10       C2/c                 -2.747   \n\n   E Above Hull (eV)  Band Gap (eV)  Nsites  Density (gm/cc)   Volume  \\\n0              0.006          3.462      16            2.993  178.513   \n1              0.008          2.879      32            2.926  365.272   \n2              0.012          3.653      28            2.761  301.775   \n3              0.013          3.015      38            2.908  436.183   \n4              0.016          2.578      36            3.334  421.286   \n\n   Has Bandstructure Crystal System  \n0               True     monoclinic  \n1               True     monoclinic  \n2               True     monoclinic  \n3               True     monoclinic  \n4               True     monoclinic  ",
          "name": "stdout",
          "output_type": "stream"
        },
        {
          "text": "",
          "output_type": "stream",
          "name": "stderr"
        }
      ],
      "metadata": {
        "id": "4d7c886d",
        "outputId": "3e7aaddf-011e-49f3-99fc-fe476c5aaa8e"
      },
      "id": "4d7c886d",
      "source": [
        "import pandas as pd\n",
        "\n",
        "df = pd.read_csv('/tmp/lithium-ion batteries.csv')\n",
        "df.head()\n"
      ]
    },
    {
      "metadata": {
        "id": "cb49ccc2"
      },
      "cell_type": "markdown",
      "id": "cb49ccc2",
      "source": [
        "# Part 1 - Data exploration\n",
        "\n",
        "Explore the dataset to understand the distribution of crystal systems (monoclinic, orthorhombic, triclinic) and identify any potential issues with the data (missing values, outliers, etc.).\n"
      ]
    },
    {
      "source": [
        "# Check for missing values in the dataset.\n",
        "print(df.isnull().sum())\n"
      ],
      "outputs": [
        {
          "output_type": "stream",
          "text": "Materials Id             0\nFormula                  0\nSpacegroup               0\nFormation Energy (eV)    0\nE Above Hull (eV)        0\nBand Gap (eV)            0\nNsites                   0\nDensity (gm/cc)          0\nVolume                   0\nHas Bandstructure        0\nCrystal System           0\ndtype: int64\n",
          "name": "stdout"
        },
        {
          "name": "stderr",
          "output_type": "stream",
          "text": ""
        }
      ],
      "execution_count": null,
      "cell_type": "code",
      "id": "54607b48",
      "metadata": {
        "id": "54607b48",
        "outputId": "18ebd57a-26f9-42ea-d6e9-7b121f85dea7"
      }
    },
    {
      "cell_type": "code",
      "source": [
        "# Check the distribution of crystal systems in the dataset.\n",
        "print(df['Crystal System'].value_counts())\n"
      ],
      "id": "76c66f1b",
      "outputs": [
        {
          "text": "Crystal System\nmonoclinic      139\northorhombic    128\ntriclinic        72\nName: count, dtype: int64\n",
          "output_type": "stream",
          "name": "stdout"
        },
        {
          "text": "",
          "name": "stderr",
          "output_type": "stream"
        }
      ],
      "metadata": {
        "id": "76c66f1b",
        "outputId": "b39b5f13-872f-4094-c556-448353626369"
      },
      "execution_count": null
    },
    {
      "source": [
        "# Statistical summary of the numerical features in the dataset.\n",
        "print(df.describe())\n"
      ],
      "cell_type": "code",
      "outputs": [
        {
          "output_type": "stream",
          "name": "stdout",
          "text": "       Formation Energy (eV)  E Above Hull (eV)  Band Gap (eV)      Nsites  \\\ncount             339.000000         339.000000     339.000000  339.000000   \nmean               -2.616950           0.058215       2.079740   38.837758   \nstd                 0.183809           0.030363       1.087968   23.133142   \nmin                -2.985000           0.000000       0.000000   10.000000   \n25%                -2.757500           0.035500       1.265500   26.000000   \n50%                -2.605000           0.062000       2.499000   31.000000   \n75%                -2.525500           0.081500       2.968000   52.000000   \nmax                -2.012000           0.190000       3.823000  132.000000   \n\n       Density (gm/cc)       Volume  \ncount       339.000000   339.000000  \nmean          2.984003   467.765619  \nstd           0.353968   292.674559  \nmin           2.200000   122.581000  \n25%           2.760500   286.381500  \n50%           2.947000   358.537000  \n75%           3.106000   601.696500  \nmax           4.201000  1518.850000  \n"
        },
        {
          "output_type": "stream",
          "text": "",
          "name": "stderr"
        }
      ],
      "metadata": {
        "id": "59e6444e",
        "outputId": "eace28c9-db4b-499b-c843-f3194728f98e"
      },
      "execution_count": null,
      "id": "59e6444e"
    },
    {
      "metadata": {
        "id": "5e9093a0"
      },
      "id": "5e9093a0",
      "cell_type": "markdown",
      "source": [
        "## 1.1 - Data cleaning\n",
        "\n",
        "\n"
      ]
    },
    {
      "cell_type": "code",
      "outputs": [
        {
          "name": "stdout",
          "output_type": "stream",
          "text": ""
        },
        {
          "text": "",
          "name": "stderr",
          "output_type": "stream"
        },
        {
          "data": {
            "text/plain": "<Figure size 1200x600 with 1 Axes>",
            "image/png": "[encoded data removed]"
          },
          "metadata": {},
          "output_type": "display_data"
        }
      ],
      "id": "19230483",
      "source": [
        "import matplotlib.pyplot as plt\n",
        "\n",
        "# Select numerical columns for outlier detection\n",
        "numerical_cols = ['Formation Energy (eV)', 'E Above Hull (eV)', 'Band Gap (eV)', 'Nsites', 'Density (gm/cc)', 'Volume']\n",
        "\n",
        "# Create box plots for numerical columns\n",
        "plt.figure(figsize=(12, 6))\n",
        "df[numerical_cols].boxplot()\n",
        "plt.title('Box Plots of Numerical Features')\n",
        "plt.xticks(rotation=45)\n",
        "plt.show()\n"
      ],
      "metadata": {
        "id": "19230483",
        "outputId": "d2437454-6689-45f5-e159-1861c90674a1"
      },
      "execution_count": null
    },
    {
      "cell_type": "markdown",
      "source": [
        "\n",
        "Based on the box plots, there are outliers in 'E Above Hull (eV)', 'Band Gap (eV)', and 'Nsites'."
      ],
      "id": "6c54e4a6",
      "metadata": {
        "id": "6c54e4a6"
      }
    },
    {
      "id": "0f6ef186",
      "execution_count": null,
      "outputs": [
        {
          "name": "stdout",
          "output_type": "stream",
          "text": ""
        },
        {
          "output_type": "stream",
          "name": "stderr",
          "text": ""
        }
      ],
      "source": [
        "# Function to remove outliers using IQR method\n",
        "def remove_outliers_iqr(df, column):\n",
        "    Q1 = df[column].quantile(0.25)\n",
        "    Q3 = df[column].quantile(0.75)\n",
        "    IQR = Q3 - Q1\n",
        "    lower_bound = Q1 - 1.5 * IQR\n",
        "    upper_bound = Q3 + 1.5 * IQR\n",
        "    df_filtered = df[(df[column] >= lower_bound) & (df[column] <= upper_bound)]\n",
        "    return df_filtered\n",
        "\n",
        "# Remove outliers from 'E Above Hull (eV)', 'Band Gap (eV)', and 'Nsites'\n",
        "df = remove_outliers_iqr(df, 'E Above Hull (eV)')\n",
        "df = remove_outliers_iqr(df, 'Band Gap (eV)')\n",
        "df = remove_outliers_iqr(df, 'Nsites')\n",
        "\n"
      ],
      "cell_type": "code",
      "metadata": {
        "id": "0f6ef186",
        "outputId": "35e7dab1-317e-4b85-b7b9-abd6858ead7c"
      }
    },
    {
      "metadata": {
        "id": "55166291"
      },
      "cell_type": "markdown",
      "id": "55166291",
      "source": [
        "Ensure data consistency in the 'Crystal System' column and remove any duplicate rows.\n",
        "\n"
      ]
    },
    {
      "source": [
        "# Check for unique values in 'Crystal System' column\n",
        "print(df['Crystal System'].unique())\n",
        "\n",
        "# Remove duplicate rows\n",
        "df = df.drop_duplicates()\n",
        "\n"
      ],
      "cell_type": "code",
      "metadata": {
        "id": "58e840ea",
        "outputId": "3c62af06-aa13-47b4-b331-b775bcd7b3d5"
      },
      "execution_count": null,
      "outputs": [
        {
          "text": "['monoclinic' 'orthorhombic' 'triclinic']\n",
          "output_type": "stream",
          "name": "stdout"
        },
        {
          "text": "",
          "name": "stderr",
          "output_type": "stream"
        }
      ],
      "id": "58e840ea"
    },
    {
      "execution_count": null,
      "outputs": [
        {
          "name": "stdout",
          "text": "Materials Id              object\nFormula                   object\nSpacegroup                object\nFormation Energy (eV)    float64\nE Above Hull (eV)        float64\nBand Gap (eV)            float64\nNsites                     int64\nDensity (gm/cc)          float64\nVolume                   float64\nHas Bandstructure           bool\nCrystal System            object\ndtype: object\n",
          "output_type": "stream"
        },
        {
          "output_type": "stream",
          "name": "stderr",
          "text": ""
        }
      ],
      "id": "4e8aeee1",
      "metadata": {
        "id": "4e8aeee1",
        "outputId": "d7d34a2d-ce64-407d-b0b4-9fd3dca2c215"
      },
      "source": [
        "# Check data types of all columns\n",
        "print(df.dtypes)\n",
        "\n"
      ],
      "cell_type": "code"
    },
    {
      "metadata": {
        "id": "e5e9c3cf"
      },
      "source": [
        "## 1.2 - Encode categorical data\n",
        "\n"
      ],
      "id": "e5e9c3cf",
      "cell_type": "markdown"
    },
    {
      "outputs": [
        {
          "text": "Materials Id               object\nFormula                    object\nSpacegroup                 object\nFormation Energy (eV)     float64\nE Above Hull (eV)         float64\nBand Gap (eV)             float64\nNsites                      int64\nDensity (gm/cc)           float64\nVolume                    float64\nHas Bandstructure            bool\nCrystal System           category\ndtype: object\n",
          "name": "stdout",
          "output_type": "stream"
        },
        {
          "text": "",
          "output_type": "stream",
          "name": "stderr"
        }
      ],
      "execution_count": null,
      "cell_type": "code",
      "metadata": {
        "id": "c824ff2b",
        "outputId": "e32e316f-fc76-4415-b940-1d391c03d57f"
      },
      "id": "c824ff2b",
      "source": [
        "# Convert 'Crystal System' to categorical data type\n",
        "df['Crystal System'] = df['Crystal System'].astype('category')\n",
        "\n",
        "# Verify the data type change\n",
        "print(df.dtypes)\n"
      ]
    },
    {
      "metadata": {
        "id": "bfe78ead"
      },
      "id": "bfe78ead",
      "cell_type": "markdown",
      "source": [
        "# Part 2 - feature_engineering\n",
        "\n",
        "\n"
      ]
    },
    {
      "execution_count": null,
      "cell_type": "code",
      "source": [
        "from sklearn.preprocessing import StandardScaler\n",
        "\n",
        "# Select relevant features\n",
        "features = ['Formation Energy (eV)', 'E Above Hull (eV)', 'Band Gap (eV)', 'Nsites', 'Density (gm/cc)', 'Volume']\n",
        "X = df[features]\n",
        "\n",
        "# Scale features using StandardScaler\n",
        "scaler = StandardScaler()\n",
        "X_scaled = scaler.fit_transform(X)\n",
        "\n",
        "# Create a new DataFrame with scaled features\n",
        "df_scaled = pd.DataFrame(X_scaled, columns=features)\n"
      ],
      "outputs": [
        {
          "text": "",
          "name": "stdout",
          "output_type": "stream"
        },
        {
          "output_type": "stream",
          "name": "stderr",
          "text": ""
        }
      ],
      "metadata": {
        "id": "899a4ece",
        "outputId": "ea4696cd-0cb0-49e6-e519-3f549ebf48e2"
      },
      "id": "899a4ece"
    },
    {
      "cell_type": "markdown",
      "id": "da975dc2",
      "source": [
        "# Part 3 - Train test split\n",
        "\n"
      ],
      "metadata": {
        "id": "da975dc2"
      }
    },
    {
      "cell_type": "code",
      "source": [
        "from sklearn.model_selection import train_test_split\n",
        "\n",
        "# Split the data into training and testing sets\n",
        "X_train, X_test, y_train, y_test = train_test_split(df_scaled, df['Crystal System'], test_size=0.25, random_state=42)\n"
      ],
      "id": "9d8da534",
      "execution_count": null,
      "outputs": [
        {
          "text": "",
          "output_type": "stream",
          "name": "stdout"
        },
        {
          "output_type": "stream",
          "name": "stderr",
          "text": ""
        }
      ],
      "metadata": {
        "id": "9d8da534",
        "outputId": "49589f39-c82c-4477-bfa9-0c8adcb1b49f"
      }
    },
    {
      "metadata": {
        "id": "94313976"
      },
      "cell_type": "markdown",
      "id": "94313976",
      "source": [
        "# Part 4 - Data preparation\n",
        "\n",
        "\n"
      ]
    },
    {
      "id": "283a5217",
      "cell_type": "code",
      "outputs": [
        {
          "text": "",
          "output_type": "stream",
          "name": "stdout"
        },
        {
          "output_type": "stream",
          "text": "",
          "name": "stderr"
        }
      ],
      "metadata": {
        "id": "283a5217",
        "outputId": "46a2ba1e-8d5a-4246-b2ed-771d4da7f02b"
      },
      "execution_count": null,
      "source": [
        "from sklearn.decomposition import PCA\n",
        "# Instantiate a PCA object with n_components=2 for visualization purposes.\n",
        "pca = PCA(n_components=2)\n",
        "# Fit the PCA object to the scaled training data (X_train) to learn the principal components.\n",
        "pca.fit(X_train)\n",
        "# Apply the learned PCA transformation to both the training and testing data to project them onto the principal component axes.\n",
        "X_train_pca = pca.transform(X_train)\n",
        "X_test_pca = pca.transform(X_test)"
      ]
    },
    {
      "outputs": [
        {
          "output_type": "stream",
          "name": "stdout",
          "text": ""
        },
        {
          "name": "stderr",
          "text": "",
          "output_type": "stream"
        }
      ],
      "cell_type": "code",
      "execution_count": null,
      "id": "e06dea07",
      "source": [
        "# Store the transformed training and testing data in new DataFrames for further analysis or visualization.\n",
        "df_pca_train = pd.DataFrame(data=X_train_pca, columns=['PC1', 'PC2'])\n",
        "df_pca_test = pd.DataFrame(data=X_test_pca, columns=['PC1', 'PC2'])\n"
      ],
      "metadata": {
        "id": "e06dea07",
        "outputId": "38617828-1dd7-47de-f783-5cd50cf25e9a"
      }
    },
    {
      "source": [
        "# Part 5: Train the model\n"
      ],
      "id": "4d8be5c9",
      "cell_type": "markdown",
      "metadata": {
        "id": "4d8be5c9"
      }
    },
    {
      "source": [
        "from sklearn.cluster import KMeans\n",
        "kmeans = KMeans(n_clusters=3)\n",
        "kmeans.fit(df_pca_train)"
      ],
      "cell_type": "code",
      "execution_count": null,
      "id": "f8672cd9",
      "outputs": [
        {
          "text": "",
          "output_type": "stream",
          "name": "stdout"
        },
        {
          "output_type": "stream",
          "text": "",
          "name": "stderr"
        }
      ],
      "metadata": {
        "id": "f8672cd9",
        "outputId": "f0c7e33a-0db7-497c-f62e-8f768753de7e"
      }
    },
    {
      "id": "8f5a56c9",
      "execution_count": null,
      "metadata": {
        "id": "8f5a56c9",
        "outputId": "fdb53190-9134-4600-8186-bc4c060114d4"
      },
      "outputs": [
        {
          "text": "",
          "output_type": "stream",
          "name": "stdout"
        },
        {
          "name": "stderr",
          "text": "",
          "output_type": "stream"
        }
      ],
      "source": [
        "# store the cluster labels for each data point in a new column within `df_pca_train`.\n",
        "df_pca_train['cluster_label'] = kmeans.labels_\n",
        "\n"
      ],
      "cell_type": "code"
    },
    {
      "source": [
        "# Part 6 - Model evaluation\n",
        "\n",
        "\n"
      ],
      "id": "eeae6fa9",
      "metadata": {
        "id": "eeae6fa9"
      },
      "cell_type": "markdown"
    },
    {
      "execution_count": null,
      "cell_type": "code",
      "id": "7bbfa450",
      "metadata": {
        "id": "7bbfa450",
        "outputId": "bb9dc2e2-d2d8-4563-f679-c9243314e784"
      },
      "source": [
        "from sklearn.metrics import silhouette_score, calinski_harabasz_score\n",
        "\n",
        "# Predict cluster labels for the testing data\n",
        "y_pred = kmeans.predict(df_pca_test)\n",
        "\n",
        "# Calculate Silhouette Score\n",
        "silhouette_avg = silhouette_score(df_pca_test, y_pred)\n",
        "print(\"Silhouette Score:\", silhouette_avg)\n",
        "\n",
        "# Calculate Calinski-Harabasz Score\n",
        "calinski_harabasz = calinski_harabasz_score(df_pca_test, y_pred)\n",
        "print(\"Calinski-Harabasz Score:\", calinski_harabasz)\n"
      ],
      "outputs": [
        {
          "text": "Silhouette Score: 0.46453681514520423\nCalinski-Harabasz Score: 98.60947372803625\n",
          "name": "stdout",
          "output_type": "stream"
        },
        {
          "output_type": "stream",
          "text": "",
          "name": "stderr"
        }
      ]
    },
    {
      "source": [
        "# Part 7 - Data visualization\n",
        "\n",
        "\n"
      ],
      "id": "2d012d47",
      "metadata": {
        "id": "2d012d47"
      },
      "cell_type": "markdown"
    },
    {
      "id": "19b4469c",
      "execution_count": null,
      "metadata": {
        "id": "19b4469c",
        "outputId": "6af57c8d-ed50-450f-b7ee-73d3b477e5ec"
      },
      "source": [
        "import matplotlib.pyplot as plt\n",
        "\n",
        "# Create a scatter plot of the PCA-transformed data\n",
        "plt.figure(figsize=(8, 6))\n",
        "plt.scatter(df_pca_train['PC1'], df_pca_train['PC2'], c=df_pca_train['cluster_label'], cmap='viridis')\n",
        "\n",
        "# Add a legend to indicate the cluster assignments\n",
        "plt.legend(handles=plt.gca().get_legend_handles_labels()[0], labels=[f'Cluster {i}' for i in range(3)])\n",
        "\n",
        "# Label the axes and set a title\n",
        "plt.xlabel('Principal Component 1')\n",
        "plt.ylabel('Principal Component 2')\n",
        "plt.title('KMeans Clustering on PCA-Transformed Data')\n",
        "\n",
        "# Display the plot\n",
        "plt.show()\n"
      ],
      "cell_type": "code",
      "outputs": [
        {
          "text": "",
          "name": "stdout",
          "output_type": "stream"
        },
        {
          "name": "stderr",
          "text": "",
          "output_type": "stream"
        },
        {
          "output_type": "display_data",
          "metadata": {},
          "data": {
            "image/png": "[encoded data removed]",
            "text/plain": "<Figure size 800x600 with 1 Axes>"
          }
        }
      ]
    }
  ],
  "nbformat": 4,
  "metadata": {
    "colab": {
      "provenance": [],
      "collapsed_sections": [
        "0549f5e7"
      ]
    }
  },
  "nbformat_minor": 5
}